{
 "cells": [
  {
   "cell_type": "code",
   "execution_count": 1,
   "metadata": {},
   "outputs": [
    {
     "name": "stdout",
     "output_type": "stream",
     "text": [
      "DIR:  /home/zhengguo/Softwares/SEMAC\n"
     ]
    }
   ],
   "source": [
    "import h5py\n",
    "import os\n",
    "import pathlib\n",
    "import twixtools\n",
    "\n",
    "DIR = os.getcwd()\n",
    "print('DIR: ', DIR)"
   ]
  },
  {
   "cell_type": "code",
   "execution_count": 2,
   "metadata": {},
   "outputs": [
    {
     "name": "stdout",
     "output_type": "stream",
     "text": [
      "Software version: VD/VE (!?)\n",
      "\n",
      "Scan  0\n"
     ]
    },
    {
     "name": "stderr",
     "output_type": "stream",
     "text": [
      "100%|██████████| 23.6M/23.6M [00:00<00:00, 264MB/s]\n"
     ]
    },
    {
     "name": "stdout",
     "output_type": "stream",
     "text": [
      "WARNING more than one slice. Taking first one..\n",
      "Scan  1\n"
     ]
    },
    {
     "name": "stderr",
     "output_type": "stream",
     "text": [
      "100%|██████████| 4.86G/4.86G [00:07<00:00, 706MB/s]"
     ]
    },
    {
     "name": "stdout",
     "output_type": "stream",
     "text": [
      "> multi-band 1, slices 26, segments 1, echo train length 13, iPat 1\n"
     ]
    },
    {
     "name": "stderr",
     "output_type": "stream",
     "text": [
      "\n"
     ]
    }
   ],
   "source": [
    "datastr = DIR + '/data/meas_MID00321_FID02913_pd_tse_semac_cor_full_12SEMAC.dat'\n",
    "\n",
    "outprefstr = datastr.split('.dat')[0]\n",
    "pathlib.Path(outprefstr).mkdir(parents=True, exist_ok=True)\n",
    "\n",
    "twixobj = twixtools.read_twix(datastr)\n",
    "\n",
    "twix = twixobj[-1]\n",
    "\n",
    "hdr_twix = twixobj[-1]['hdr']\n",
    "MB = hdr_twix['Phoenix']['sSliceAcceleration']['lMultiBandFactor']\n",
    "N_slices = hdr_twix['Phoenix']['sSliceArray']['lSize']\n",
    "N_segments = hdr_twix['Phoenix']['sFastImaging']['lSegments']\n",
    "N_EchoTrainLength = int(hdr_twix['Meas']['EchoTrainLength'])\n",
    "N_Accel_PE = hdr_twix['Phoenix']['sPat']['lAccelFactPE']\n",
    "\n",
    "print('> multi-band ' + str(MB) +\\\n",
    "      ', slices ' + str(N_slices) +\\\n",
    "      ', segments ' + str(N_segments) +\\\n",
    "      ', echo train length ' + str(N_EchoTrainLength) +\\\n",
    "      ', iPat ' + str(N_Accel_PE))"
   ]
  },
  {
   "cell_type": "code",
   "execution_count": 6,
   "metadata": {},
   "outputs": [
    {
     "name": "stdout",
     "output_type": "stream",
     "text": [
      "Software version: VD/VE (!?)\n",
      "\n",
      "Scan  0\n"
     ]
    },
    {
     "name": "stderr",
     "output_type": "stream",
     "text": [
      "100%|██████████| 23.6M/23.6M [00:00<00:00, 253MB/s]\n"
     ]
    },
    {
     "name": "stdout",
     "output_type": "stream",
     "text": [
      "WARNING more than one slice. Taking first one..\n",
      "Scan  1\n"
     ]
    },
    {
     "name": "stderr",
     "output_type": "stream",
     "text": [
      "100%|██████████| 4.86G/4.86G [00:07<00:00, 741MB/s] \n"
     ]
    }
   ],
   "source": [
    "REMOVE_OS = True\n",
    "\n",
    "mapped = twixtools.map_twix(datastr)\n",
    "\n",
    "# kdat twix\n",
    "kdat_twix = mapped[-1]['image']\n",
    "\n",
    "kdat_twix.flags['regrid'] = True\n",
    "kdat_twix.flags['remove_os'] = REMOVE_OS\n",
    "kdat_twix.flags['zf_missing_lines'] = True\n",
    "kdat_twix.flags['average']['Seg'] = True  # take together all echo trains"
   ]
  },
  {
   "cell_type": "code",
   "execution_count": 7,
   "metadata": {},
   "outputs": [
    {
     "name": "stdout",
     "output_type": "stream",
     "text": [
      "(1, 1, 1, 1, 1, 1, 1, 1, 1, 1, 12, 26, 1, 299, 12, 288)\n",
      "{'average': {'Ide': True, 'Idd': True, 'Idc': True, 'Idb': True, 'Ida': True, 'Seg': True, 'Set': False, 'Rep': False, 'Phs': False, 'Eco': False, 'Par': False, 'Sli': False, 'Ave': True, 'Lin': False, 'Cha': False, 'Col': False}, 'remove_os': True, 'regrid': True, 'apply_fftscale': False, 'apply_rawdatacorr': False, 'squeeze_ave_dims': False, 'squeeze_singletons': False, 'skip_empty_lead': False, 'zf_missing_lines': True, 'user_func': []}\n"
     ]
    }
   ],
   "source": [
    "print(kdat_twix.shape)\n",
    "print(kdat_twix.flags)\n",
    "\n",
    "N_semac = kdat_twix.shape[-6]  # Par\n",
    "N_slice = kdat_twix.shape[-5]  # Sli\n",
    "N_y = kdat_twix.shape[-3]      # Lin\n",
    "N_x = kdat_twix.shape[-1]      # Col\n",
    "N_coil = kdat_twix.shape[-2]   # Cha\n",
    "N_echo= kdat_twix.shape[-11]   # Seg"
   ]
  },
  {
   "cell_type": "code",
   "execution_count": 5,
   "metadata": {},
   "outputs": [],
   "source": [
    "for s in range(N_slice):\n",
    "\n",
    "    k = kdat_twix[..., [s], :, :, :, :]\n",
    "\n",
    "    f = h5py.File(outprefstr + '/semac_slice_' + str(s).zfill(3) + '.h5', 'w')\n",
    "    f.create_dataset('kspace', data=k)\n",
    "    f.close()"
   ]
  }
 ],
 "metadata": {
  "kernelspec": {
   "display_name": "semac",
   "language": "python",
   "name": "python3"
  },
  "language_info": {
   "codemirror_mode": {
    "name": "ipython",
    "version": 3
   },
   "file_extension": ".py",
   "mimetype": "text/x-python",
   "name": "python",
   "nbconvert_exporter": "python",
   "pygments_lexer": "ipython3",
   "version": "3.10.13"
  }
 },
 "nbformat": 4,
 "nbformat_minor": 2
}
